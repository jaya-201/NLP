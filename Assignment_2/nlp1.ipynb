{
 "cells": [
  {
   "cell_type": "code",
   "execution_count": 1,
   "id": "29fe6b14",
   "metadata": {},
   "outputs": [],
   "source": [
    "import re"
   ]
  },
  {
   "cell_type": "code",
   "execution_count": 2,
   "id": "7bf6a64d",
   "metadata": {},
   "outputs": [],
   "source": [
    "def is_valid_english_word(word):\n",
    "    pattern = r'^[a-z][a-z]*$'\n",
    "\n",
    "    if re.fullmatch(pattern, word):\n",
    "        return \"Accepted\"\n",
    "    else:\n",
    "        return \"Not Accepted\""
   ]
  },
  {
   "cell_type": "code",
   "execution_count": 3,
   "id": "e7653c2f",
   "metadata": {},
   "outputs": [
    {
     "name": "stdout",
     "output_type": "stream",
     "text": [
      "dog -> Accepted\n"
     ]
    }
   ],
   "source": [
    "user_input = input(\"Enter a word: \").strip()\n",
    "result = is_valid_english_word(user_input)\n",
    "print(f\"{user_input} -> {result}\")"
   ]
  }
 ],
 "metadata": {
  "kernelspec": {
   "display_name": "Python 3",
   "language": "python",
   "name": "python3"
  },
  "language_info": {
   "codemirror_mode": {
    "name": "ipython",
    "version": 3
   },
   "file_extension": ".py",
   "mimetype": "text/x-python",
   "name": "python",
   "nbconvert_exporter": "python",
   "pygments_lexer": "ipython3",
   "version": "3.12.10"
  }
 },
 "nbformat": 4,
 "nbformat_minor": 5
}
