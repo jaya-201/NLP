{
 "cells": [
  {
   "cell_type": "code",
   "execution_count": 1,
   "id": "c32a96fa",
   "metadata": {},
   "outputs": [],
   "source": [
    "import re\n",
    "from typing import List, Dict"
   ]
  },
  {
   "cell_type": "code",
   "execution_count": 6,
   "id": "173450dd",
   "metadata": {},
   "outputs": [],
   "source": [
    "class NounMorphologyStemmer:\n",
    "    def __init__(self, brown_nouns_file: str = None):\n",
    "        self.valid_nouns = set()\n",
    "        self.irregular_plurals = {\n",
    "            'children': 'child', 'men': 'man', 'women': 'woman', 'people': 'person',\n",
    "            'feet': 'foot', 'teeth': 'tooth', 'mice': 'mouse', 'geese': 'goose',\n",
    "            'oxen': 'ox', 'sheep': 'sheep', 'deer': 'deer', 'fish': 'fish',\n",
    "            'series': 'series', 'species': 'species', 'data': 'datum',\n",
    "            'criteria': 'criterion', 'phenomena': 'phenomenon',\n",
    "            'analyses': 'analysis', 'bases': 'basis', 'crises': 'crisis', 'theses': 'thesis'\n",
    "        }\n",
    "        self.irregular_singulars = {v: k for k, v in self.irregular_plurals.items()}\n",
    "        if brown_nouns_file:\n",
    "            with open(brown_nouns_file, 'r', encoding='utf-8') as f:\n",
    "                for line in f:\n",
    "                    noun = line.strip().lower()\n",
    "                    if noun:\n",
    "                        self.valid_nouns.add(noun)\n",
    "\n",
    "    def stem(self, word: str) -> str:\n",
    "        if word in self.irregular_plurals:\n",
    "            return self.irregular_plurals[word]\n",
    "        if word.endswith('ies') and len(word) > 3:\n",
    "            return word[:-3] + 'y'\n",
    "        if word.endswith('es') and len(word) > 2:\n",
    "            if word[:-2].endswith(('s', 'z', 'x', 'ch', 'sh')):\n",
    "                return word[:-2]\n",
    "        if word.endswith('s') and len(word) > 1:\n",
    "            return word[:-1]\n",
    "        return word\n",
    "\n",
    "    def analyze_word(self, word: str) -> str:\n",
    "        word = word.strip().lower()\n",
    "        if not word:\n",
    "            return \"Invalid Word\"\n",
    "        \n",
    "        stemmed = self.stem(word) #singular form\n",
    "\n",
    "        #original word in the irregular singulars -> plural\n",
    "        if word in self.irregular_singulars:\n",
    "            if stemmed in self.valid_nouns:\n",
    "                return f\"{word} = {stemmed} + N + PL\"\n",
    "            else:\n",
    "                return \"Invalid Word\"\n",
    "        #stemmed word is a valid noun, original word is not the same as the stemmed -> plural\n",
    "        if stemmed in self.valid_nouns and word != stemmed:\n",
    "            return f\"{word} = {stemmed} + N + PL\"\n",
    "        #word itself is a valid noun -> singular\n",
    "        if word in self.valid_nouns:\n",
    "            return f\"{word} = {word} + N + SG\"\n",
    "        return \"Invalid Word\"\n",
    "\n",
    "    def demonstrate_rules(self):\n",
    "        print(\"Enter a word to analyze (type 'quit' to exit):\")\n",
    "        while True:\n",
    "            word = input(\"\\nWord: \").strip()\n",
    "            if word.lower() == 'quit':\n",
    "                break\n",
    "            if word:\n",
    "                result = self.analyze_word(word)\n",
    "                print(f\"Analysis: {result}\")"
   ]
  },
  {
   "cell_type": "code",
   "execution_count": 7,
   "id": "2f28d8de",
   "metadata": {},
   "outputs": [
    {
     "name": "stdout",
     "output_type": "stream",
     "text": [
      "Enter a word to analyze (type 'quit' to exit):\n",
      "Analysis: flies = fly + N + PL\n",
      "Analysis: dog = dog + N + SG\n"
     ]
    }
   ],
   "source": [
    "if __name__ == \"__main__\":\n",
    "    brown_nouns_file = \"brown_nouns.txt\"\n",
    "    fst = NounMorphologyStemmer(brown_nouns_file)\n",
    "    fst.demonstrate_rules()"
   ]
  },
  {
   "cell_type": "code",
   "execution_count": null,
   "id": "bd39d530",
   "metadata": {},
   "outputs": [],
   "source": []
  }
 ],
 "metadata": {
  "kernelspec": {
   "display_name": "Python 3",
   "language": "python",
   "name": "python3"
  },
  "language_info": {
   "codemirror_mode": {
    "name": "ipython",
    "version": 3
   },
   "file_extension": ".py",
   "mimetype": "text/x-python",
   "name": "python",
   "nbconvert_exporter": "python",
   "pygments_lexer": "ipython3",
   "version": "3.12.10"
  }
 },
 "nbformat": 4,
 "nbformat_minor": 5
}
