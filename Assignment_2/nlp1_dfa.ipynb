{
 "cells": [
  {
   "cell_type": "code",
   "execution_count": 2,
   "id": "134e0b5f",
   "metadata": {},
   "outputs": [],
   "source": [
    "from automathon import DFA\n",
    "import re"
   ]
  },
  {
   "cell_type": "code",
   "execution_count": null,
   "id": "dd43fd43",
   "metadata": {},
   "outputs": [],
   "source": [
    "states = {'q0', 'q1', 'q_dead'}\n",
    "\n",
    "transition_function = {}\n",
    "\n",
    "transition_function[('q0', '^[a-z]')] = 'q1'\n",
    "\n",
    "transition_function[('q1', '[a-z]$')] = 'q1'\n",
    "\n",
    "transition_function[('q0', '^[^a-z]')] = 'q_dead'\n",
    "transition_function[('q1', '[^a-z]$')] = 'q_dead'\n",
    "\n",
    "transition_function[('q_dead', '.*')] = 'q_dead'"
   ]
  },
  {
   "cell_type": "code",
   "execution_count": 4,
   "id": "d0f1bd2b",
   "metadata": {},
   "outputs": [],
   "source": [
    "def dfa_with_regex(word):\n",
    "    state = 'q0'\n",
    "    for ch in word:\n",
    "        moved = False\n",
    "        for (current_state, pattern), next_state in transition_function.items():\n",
    "            if current_state == state and re.fullmatch(pattern, ch):\n",
    "                state = next_state\n",
    "                moved = True\n",
    "                break\n",
    "        if not moved:\n",
    "            state = 'q_dead'\n",
    "            break\n",
    "    return \"Accepted\" if state == 'q1' else \"Not Accepted\""
   ]
  },
  {
   "cell_type": "code",
   "execution_count": 5,
   "id": "e16c9b0e",
   "metadata": {},
   "outputs": [
    {
     "name": "stdout",
     "output_type": "stream",
     "text": [
      "dog1 --> Not Accepted\n"
     ]
    }
   ],
   "source": [
    "user_input = input(\"Enter a word: \").strip()\n",
    "print(f\"{user_input} --> {dfa_with_regex(user_input)}\")"
   ]
  }
 ],
 "metadata": {
  "kernelspec": {
   "display_name": "Python 3",
   "language": "python",
   "name": "python3"
  },
  "language_info": {
   "codemirror_mode": {
    "name": "ipython",
    "version": 3
   },
   "file_extension": ".py",
   "mimetype": "text/x-python",
   "name": "python",
   "nbconvert_exporter": "python",
   "pygments_lexer": "ipython3",
   "version": "3.12.10"
  }
 },
 "nbformat": 4,
 "nbformat_minor": 5
}
